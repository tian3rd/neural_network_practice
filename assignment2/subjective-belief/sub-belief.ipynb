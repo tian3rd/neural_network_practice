{
 "metadata": {
  "language_info": {
   "codemirror_mode": {
    "name": "ipython",
    "version": 3
   },
   "file_extension": ".py",
   "mimetype": "text/x-python",
   "name": "python",
   "nbconvert_exporter": "python",
   "pygments_lexer": "ipython3",
   "version": "3.9.2"
  },
  "orig_nbformat": 2,
  "kernelspec": {
   "name": "python392jvsc74a57bd0aee8b7b246df8f9039afb4144a1f6fd8d2ca17a180786b69acc140d282b71a49",
   "display_name": "Python 3.9.2 64-bit"
  },
  "metadata": {
   "interpreter": {
    "hash": "aee8b7b246df8f9039afb4144a1f6fd8d2ca17a180786b69acc140d282b71a49"
   }
  }
 },
 "nbformat": 4,
 "nbformat_minor": 2,
 "cells": [
  {
   "cell_type": "code",
   "execution_count": 71,
   "metadata": {},
   "outputs": [],
   "source": [
    "import numpy as np\n",
    "import pandas as pd\n",
    "import torch\n",
    "from torch import nn\n",
    "import torch.nn.functional as F"
   ]
  },
  {
   "cell_type": "code",
   "execution_count": 72,
   "metadata": {},
   "outputs": [],
   "source": [
    "dataset_name = 'subjective_belief_observers_features_labels.csv'\n",
    "data = pd.read_csv(dataset_name)"
   ]
  },
  {
   "cell_type": "code",
   "execution_count": 73,
   "metadata": {},
   "outputs": [
    {
     "output_type": "execute_result",
     "data": {
      "text/plain": [
       "        0_eye     1_eye     2_eye     3_eye     4_eye     5_eye     6_eye  \\\n",
       "0    0.177485  0.720860  0.602747  0.099854  0.009971  0.610958  0.002342   \n",
       "1    0.299396  0.744542  0.631517  0.064996  0.004224  0.634852  0.002457   \n",
       "2    0.306383  0.694017  0.605194  0.049781  0.002478  0.607237  0.002491   \n",
       "3    0.350145  0.706052  0.595702  0.053794  0.002894  0.598125  0.002315   \n",
       "4    0.308784  0.718104  0.623816  0.048273  0.002330  0.625680  0.002012   \n",
       "..        ...       ...       ...       ...       ...       ...       ...   \n",
       "363  0.308682  0.682834  0.604240  0.044466  0.001977  0.605873  0.003288   \n",
       "364  0.285953  0.668573  0.580163  0.064858  0.004207  0.583775  0.003102   \n",
       "365  0.318182  0.731143  0.598704  0.045000  0.002025  0.600393  0.002981   \n",
       "366  0.313339  0.688024  0.596568  0.048984  0.002399  0.598575  0.004013   \n",
       "367  0.107955  0.748156  0.645894  0.072159  0.005207  0.649911  0.004297   \n",
       "\n",
       "        7_eye  8_eye  9_eye  ...    29_eye    30_eye    31_eye    32_eye  \\\n",
       "0    0.004523      2      5  ...  0.088098  0.007761  0.572257  0.002239   \n",
       "1    0.004740      1      4  ...  0.066759  0.004457  0.593355  0.002838   \n",
       "2    0.004817      1      5  ...  0.043292  0.001874  0.580258  0.002368   \n",
       "3    0.004433      1      5  ...  0.046186  0.002133  0.565873  0.001954   \n",
       "4    0.003859      2      5  ...  0.049019  0.002403  0.615038  0.002077   \n",
       "..        ...    ...    ...  ...       ...       ...       ...       ...   \n",
       "363  0.006374      1      5  ...  0.037502  0.001406  0.579315  0.003424   \n",
       "364  0.005985      1      2  ...  0.063451  0.004026  0.561761  0.003281   \n",
       "365  0.005781      2      8  ...  0.046290  0.002143  0.576458  0.003304   \n",
       "366  0.007769      1      3  ...  0.047359  0.002243  0.567903  0.003683   \n",
       "367  0.008338      2      9  ...  0.055835  0.003118  0.621107  0.003731   \n",
       "\n",
       "       33_eye  34_eye  35_eye    36_eye    37_eye    38_eye  \n",
       "0    0.004317       2       5  0.164328 -0.061932  0.400000  \n",
       "1    0.005447       1       6  0.283381  0.002631  0.166667  \n",
       "2    0.004573       2       4  0.112301 -0.045173  0.500000  \n",
       "3    0.003728       1       5  0.298954  0.030237  0.200000  \n",
       "4    0.003969       1       5  0.294080  0.036404  0.200000  \n",
       "..        ...     ...     ...       ...       ...       ...  \n",
       "363  0.006631       1       6  0.292384  0.011888  0.166667  \n",
       "364  0.006328       1       3  0.274939 -0.006544  0.333333  \n",
       "365  0.006411       2       7  0.202604  0.017001  0.285714  \n",
       "366  0.007113       1       3  0.301378 -0.016974  0.333333  \n",
       "367  0.007224       2       6  0.219112 -0.014082  0.333333  \n",
       "\n",
       "[368 rows x 39 columns]"
      ],
      "text/html": "<div>\n<style scoped>\n    .dataframe tbody tr th:only-of-type {\n        vertical-align: middle;\n    }\n\n    .dataframe tbody tr th {\n        vertical-align: top;\n    }\n\n    .dataframe thead th {\n        text-align: right;\n    }\n</style>\n<table border=\"1\" class=\"dataframe\">\n  <thead>\n    <tr style=\"text-align: right;\">\n      <th></th>\n      <th>0_eye</th>\n      <th>1_eye</th>\n      <th>2_eye</th>\n      <th>3_eye</th>\n      <th>4_eye</th>\n      <th>5_eye</th>\n      <th>6_eye</th>\n      <th>7_eye</th>\n      <th>8_eye</th>\n      <th>9_eye</th>\n      <th>...</th>\n      <th>29_eye</th>\n      <th>30_eye</th>\n      <th>31_eye</th>\n      <th>32_eye</th>\n      <th>33_eye</th>\n      <th>34_eye</th>\n      <th>35_eye</th>\n      <th>36_eye</th>\n      <th>37_eye</th>\n      <th>38_eye</th>\n    </tr>\n  </thead>\n  <tbody>\n    <tr>\n      <th>0</th>\n      <td>0.177485</td>\n      <td>0.720860</td>\n      <td>0.602747</td>\n      <td>0.099854</td>\n      <td>0.009971</td>\n      <td>0.610958</td>\n      <td>0.002342</td>\n      <td>0.004523</td>\n      <td>2</td>\n      <td>5</td>\n      <td>...</td>\n      <td>0.088098</td>\n      <td>0.007761</td>\n      <td>0.572257</td>\n      <td>0.002239</td>\n      <td>0.004317</td>\n      <td>2</td>\n      <td>5</td>\n      <td>0.164328</td>\n      <td>-0.061932</td>\n      <td>0.400000</td>\n    </tr>\n    <tr>\n      <th>1</th>\n      <td>0.299396</td>\n      <td>0.744542</td>\n      <td>0.631517</td>\n      <td>0.064996</td>\n      <td>0.004224</td>\n      <td>0.634852</td>\n      <td>0.002457</td>\n      <td>0.004740</td>\n      <td>1</td>\n      <td>4</td>\n      <td>...</td>\n      <td>0.066759</td>\n      <td>0.004457</td>\n      <td>0.593355</td>\n      <td>0.002838</td>\n      <td>0.005447</td>\n      <td>1</td>\n      <td>6</td>\n      <td>0.283381</td>\n      <td>0.002631</td>\n      <td>0.166667</td>\n    </tr>\n    <tr>\n      <th>2</th>\n      <td>0.306383</td>\n      <td>0.694017</td>\n      <td>0.605194</td>\n      <td>0.049781</td>\n      <td>0.002478</td>\n      <td>0.607237</td>\n      <td>0.002491</td>\n      <td>0.004817</td>\n      <td>1</td>\n      <td>5</td>\n      <td>...</td>\n      <td>0.043292</td>\n      <td>0.001874</td>\n      <td>0.580258</td>\n      <td>0.002368</td>\n      <td>0.004573</td>\n      <td>2</td>\n      <td>4</td>\n      <td>0.112301</td>\n      <td>-0.045173</td>\n      <td>0.500000</td>\n    </tr>\n    <tr>\n      <th>3</th>\n      <td>0.350145</td>\n      <td>0.706052</td>\n      <td>0.595702</td>\n      <td>0.053794</td>\n      <td>0.002894</td>\n      <td>0.598125</td>\n      <td>0.002315</td>\n      <td>0.004433</td>\n      <td>1</td>\n      <td>5</td>\n      <td>...</td>\n      <td>0.046186</td>\n      <td>0.002133</td>\n      <td>0.565873</td>\n      <td>0.001954</td>\n      <td>0.003728</td>\n      <td>1</td>\n      <td>5</td>\n      <td>0.298954</td>\n      <td>0.030237</td>\n      <td>0.200000</td>\n    </tr>\n    <tr>\n      <th>4</th>\n      <td>0.308784</td>\n      <td>0.718104</td>\n      <td>0.623816</td>\n      <td>0.048273</td>\n      <td>0.002330</td>\n      <td>0.625680</td>\n      <td>0.002012</td>\n      <td>0.003859</td>\n      <td>2</td>\n      <td>5</td>\n      <td>...</td>\n      <td>0.049019</td>\n      <td>0.002403</td>\n      <td>0.615038</td>\n      <td>0.002077</td>\n      <td>0.003969</td>\n      <td>1</td>\n      <td>5</td>\n      <td>0.294080</td>\n      <td>0.036404</td>\n      <td>0.200000</td>\n    </tr>\n    <tr>\n      <th>...</th>\n      <td>...</td>\n      <td>...</td>\n      <td>...</td>\n      <td>...</td>\n      <td>...</td>\n      <td>...</td>\n      <td>...</td>\n      <td>...</td>\n      <td>...</td>\n      <td>...</td>\n      <td>...</td>\n      <td>...</td>\n      <td>...</td>\n      <td>...</td>\n      <td>...</td>\n      <td>...</td>\n      <td>...</td>\n      <td>...</td>\n      <td>...</td>\n      <td>...</td>\n      <td>...</td>\n    </tr>\n    <tr>\n      <th>363</th>\n      <td>0.308682</td>\n      <td>0.682834</td>\n      <td>0.604240</td>\n      <td>0.044466</td>\n      <td>0.001977</td>\n      <td>0.605873</td>\n      <td>0.003288</td>\n      <td>0.006374</td>\n      <td>1</td>\n      <td>5</td>\n      <td>...</td>\n      <td>0.037502</td>\n      <td>0.001406</td>\n      <td>0.579315</td>\n      <td>0.003424</td>\n      <td>0.006631</td>\n      <td>1</td>\n      <td>6</td>\n      <td>0.292384</td>\n      <td>0.011888</td>\n      <td>0.166667</td>\n    </tr>\n    <tr>\n      <th>364</th>\n      <td>0.285953</td>\n      <td>0.668573</td>\n      <td>0.580163</td>\n      <td>0.064858</td>\n      <td>0.004207</td>\n      <td>0.583775</td>\n      <td>0.003102</td>\n      <td>0.005985</td>\n      <td>1</td>\n      <td>2</td>\n      <td>...</td>\n      <td>0.063451</td>\n      <td>0.004026</td>\n      <td>0.561761</td>\n      <td>0.003281</td>\n      <td>0.006328</td>\n      <td>1</td>\n      <td>3</td>\n      <td>0.274939</td>\n      <td>-0.006544</td>\n      <td>0.333333</td>\n    </tr>\n    <tr>\n      <th>365</th>\n      <td>0.318182</td>\n      <td>0.731143</td>\n      <td>0.598704</td>\n      <td>0.045000</td>\n      <td>0.002025</td>\n      <td>0.600393</td>\n      <td>0.002981</td>\n      <td>0.005781</td>\n      <td>2</td>\n      <td>8</td>\n      <td>...</td>\n      <td>0.046290</td>\n      <td>0.002143</td>\n      <td>0.576458</td>\n      <td>0.003304</td>\n      <td>0.006411</td>\n      <td>2</td>\n      <td>7</td>\n      <td>0.202604</td>\n      <td>0.017001</td>\n      <td>0.285714</td>\n    </tr>\n    <tr>\n      <th>366</th>\n      <td>0.313339</td>\n      <td>0.688024</td>\n      <td>0.596568</td>\n      <td>0.048984</td>\n      <td>0.002399</td>\n      <td>0.598575</td>\n      <td>0.004013</td>\n      <td>0.007769</td>\n      <td>1</td>\n      <td>3</td>\n      <td>...</td>\n      <td>0.047359</td>\n      <td>0.002243</td>\n      <td>0.567903</td>\n      <td>0.003683</td>\n      <td>0.007113</td>\n      <td>1</td>\n      <td>3</td>\n      <td>0.301378</td>\n      <td>-0.016974</td>\n      <td>0.333333</td>\n    </tr>\n    <tr>\n      <th>367</th>\n      <td>0.107955</td>\n      <td>0.748156</td>\n      <td>0.645894</td>\n      <td>0.072159</td>\n      <td>0.005207</td>\n      <td>0.649911</td>\n      <td>0.004297</td>\n      <td>0.008338</td>\n      <td>2</td>\n      <td>9</td>\n      <td>...</td>\n      <td>0.055835</td>\n      <td>0.003118</td>\n      <td>0.621107</td>\n      <td>0.003731</td>\n      <td>0.007224</td>\n      <td>2</td>\n      <td>6</td>\n      <td>0.219112</td>\n      <td>-0.014082</td>\n      <td>0.333333</td>\n    </tr>\n  </tbody>\n</table>\n<p>368 rows × 39 columns</p>\n</div>"
     },
     "metadata": {},
     "execution_count": 73
    }
   ],
   "source": [
    "selected_columns = [True for _ in range(data.shape[1])]\n",
    "for _ in range(1, data.shape[1]-40):\n",
    "    selected_columns[_] = False\n",
    "data_eye = data.iloc[:, selected_columns]\n",
    "data_eye_features = data_eye.iloc[:, 1:-1]\n",
    "# data_eye_features"
   ]
  },
  {
   "cell_type": "code",
   "execution_count": 74,
   "metadata": {},
   "outputs": [
    {
     "output_type": "execute_result",
     "data": {
      "text/plain": [
       "        0_eye     1_eye     2_eye     3_eye     4_eye     5_eye     6_eye  \\\n",
       "0   -1.688976  0.187051  0.256446  3.171071  3.543703  0.308747  0.054207   \n",
       "1    0.301055  0.356162  0.498622  1.173140  0.893773  0.509801  0.170242   \n",
       "2    0.415118 -0.004623  0.277046  0.301112  0.088485  0.277439  0.203884   \n",
       "3    1.129478  0.081314  0.197145  0.531071  0.280118  0.200764  0.026836   \n",
       "4    0.454314  0.167371  0.433791  0.214682  0.020299  0.432623 -0.278029   \n",
       "..        ...       ...       ...       ...       ...       ...       ...   \n",
       "363  0.452641 -0.084480  0.269014 -0.003531 -0.142523  0.265962  1.005933   \n",
       "364  0.081622 -0.186314  0.066346  1.165247  0.885526  0.080019  0.818884   \n",
       "365  0.607718  0.260480  0.222419  0.027059 -0.120503  0.219847  0.696986   \n",
       "366  0.528658 -0.047419  0.204435  0.255420  0.052176  0.204549  1.735407   \n",
       "367 -2.823963  0.381963  0.619637  1.583720  1.346852  0.636514  2.020268   \n",
       "\n",
       "        7_eye     8_eye     9_eye  ...    29_eye    30_eye    31_eye  \\\n",
       "0    0.081902  0.956203 -0.151215  ...  3.634237  4.778965  0.015332   \n",
       "1    0.192372 -0.657938 -0.769516  ...  1.984387  2.104989  0.202124   \n",
       "2    0.231778 -0.657938 -0.151215  ...  0.169926  0.015084  0.086168   \n",
       "3    0.036345 -0.657938 -0.151215  ...  0.393659  0.224606 -0.041185   \n",
       "4   -0.256088  0.956203 -0.151215  ...  0.612726  0.442889  0.394096   \n",
       "..        ...       ...       ...  ...       ...       ...       ...   \n",
       "363  1.024448 -0.657938 -0.151215  ... -0.277810 -0.363517  0.077821   \n",
       "364  0.826531 -0.657938 -2.006118  ...  1.728623  1.756436 -0.077595   \n",
       "365  0.722647  0.956203  1.703688  ...  0.401700  0.232388  0.052532   \n",
       "366  1.734624 -0.657938 -1.387817  ...  0.484377  0.313423 -0.023215   \n",
       "367  2.024374  0.956203  2.321989  ...  1.139700  1.021193  0.447828   \n",
       "\n",
       "       32_eye    33_eye    34_eye    35_eye    36_eye    37_eye    38_eye  \n",
       "0    0.101840  0.115872  1.029548 -0.128742 -0.852848 -2.358977  1.141225  \n",
       "1    0.795291  0.774379 -0.654335  0.502952  0.624390 -0.224856 -1.045464  \n",
       "2    0.251071  0.265426  1.029548 -0.760435 -1.498399 -1.805023  2.078377  \n",
       "3   -0.226998 -0.227059 -0.654335 -0.128742  0.817621  0.687684 -0.733080  \n",
       "4   -0.084703 -0.086402 -0.654335 -0.128742  0.757145  0.891541 -0.733080  \n",
       "..        ...       ...       ...       ...       ...       ...       ...  \n",
       "363  1.471976  1.464302 -0.654335  0.502952  0.736093  0.081132 -1.045464  \n",
       "364  1.306389  1.287821 -0.654335 -1.392129  0.519642 -0.528130  0.516457  \n",
       "365  1.333777  1.335957  1.029548  1.134645 -0.377907  0.250146  0.070193  \n",
       "366  1.771525  1.745009 -0.654335 -1.392129  0.847700 -0.872902  0.516457  \n",
       "367  1.827412  1.809789  1.029548  0.502952 -0.173073 -0.777308  0.516457  \n",
       "\n",
       "[368 rows x 39 columns]"
      ],
      "text/html": "<div>\n<style scoped>\n    .dataframe tbody tr th:only-of-type {\n        vertical-align: middle;\n    }\n\n    .dataframe tbody tr th {\n        vertical-align: top;\n    }\n\n    .dataframe thead th {\n        text-align: right;\n    }\n</style>\n<table border=\"1\" class=\"dataframe\">\n  <thead>\n    <tr style=\"text-align: right;\">\n      <th></th>\n      <th>0_eye</th>\n      <th>1_eye</th>\n      <th>2_eye</th>\n      <th>3_eye</th>\n      <th>4_eye</th>\n      <th>5_eye</th>\n      <th>6_eye</th>\n      <th>7_eye</th>\n      <th>8_eye</th>\n      <th>9_eye</th>\n      <th>...</th>\n      <th>29_eye</th>\n      <th>30_eye</th>\n      <th>31_eye</th>\n      <th>32_eye</th>\n      <th>33_eye</th>\n      <th>34_eye</th>\n      <th>35_eye</th>\n      <th>36_eye</th>\n      <th>37_eye</th>\n      <th>38_eye</th>\n    </tr>\n  </thead>\n  <tbody>\n    <tr>\n      <th>0</th>\n      <td>-1.688976</td>\n      <td>0.187051</td>\n      <td>0.256446</td>\n      <td>3.171071</td>\n      <td>3.543703</td>\n      <td>0.308747</td>\n      <td>0.054207</td>\n      <td>0.081902</td>\n      <td>0.956203</td>\n      <td>-0.151215</td>\n      <td>...</td>\n      <td>3.634237</td>\n      <td>4.778965</td>\n      <td>0.015332</td>\n      <td>0.101840</td>\n      <td>0.115872</td>\n      <td>1.029548</td>\n      <td>-0.128742</td>\n      <td>-0.852848</td>\n      <td>-2.358977</td>\n      <td>1.141225</td>\n    </tr>\n    <tr>\n      <th>1</th>\n      <td>0.301055</td>\n      <td>0.356162</td>\n      <td>0.498622</td>\n      <td>1.173140</td>\n      <td>0.893773</td>\n      <td>0.509801</td>\n      <td>0.170242</td>\n      <td>0.192372</td>\n      <td>-0.657938</td>\n      <td>-0.769516</td>\n      <td>...</td>\n      <td>1.984387</td>\n      <td>2.104989</td>\n      <td>0.202124</td>\n      <td>0.795291</td>\n      <td>0.774379</td>\n      <td>-0.654335</td>\n      <td>0.502952</td>\n      <td>0.624390</td>\n      <td>-0.224856</td>\n      <td>-1.045464</td>\n    </tr>\n    <tr>\n      <th>2</th>\n      <td>0.415118</td>\n      <td>-0.004623</td>\n      <td>0.277046</td>\n      <td>0.301112</td>\n      <td>0.088485</td>\n      <td>0.277439</td>\n      <td>0.203884</td>\n      <td>0.231778</td>\n      <td>-0.657938</td>\n      <td>-0.151215</td>\n      <td>...</td>\n      <td>0.169926</td>\n      <td>0.015084</td>\n      <td>0.086168</td>\n      <td>0.251071</td>\n      <td>0.265426</td>\n      <td>1.029548</td>\n      <td>-0.760435</td>\n      <td>-1.498399</td>\n      <td>-1.805023</td>\n      <td>2.078377</td>\n    </tr>\n    <tr>\n      <th>3</th>\n      <td>1.129478</td>\n      <td>0.081314</td>\n      <td>0.197145</td>\n      <td>0.531071</td>\n      <td>0.280118</td>\n      <td>0.200764</td>\n      <td>0.026836</td>\n      <td>0.036345</td>\n      <td>-0.657938</td>\n      <td>-0.151215</td>\n      <td>...</td>\n      <td>0.393659</td>\n      <td>0.224606</td>\n      <td>-0.041185</td>\n      <td>-0.226998</td>\n      <td>-0.227059</td>\n      <td>-0.654335</td>\n      <td>-0.128742</td>\n      <td>0.817621</td>\n      <td>0.687684</td>\n      <td>-0.733080</td>\n    </tr>\n    <tr>\n      <th>4</th>\n      <td>0.454314</td>\n      <td>0.167371</td>\n      <td>0.433791</td>\n      <td>0.214682</td>\n      <td>0.020299</td>\n      <td>0.432623</td>\n      <td>-0.278029</td>\n      <td>-0.256088</td>\n      <td>0.956203</td>\n      <td>-0.151215</td>\n      <td>...</td>\n      <td>0.612726</td>\n      <td>0.442889</td>\n      <td>0.394096</td>\n      <td>-0.084703</td>\n      <td>-0.086402</td>\n      <td>-0.654335</td>\n      <td>-0.128742</td>\n      <td>0.757145</td>\n      <td>0.891541</td>\n      <td>-0.733080</td>\n    </tr>\n    <tr>\n      <th>...</th>\n      <td>...</td>\n      <td>...</td>\n      <td>...</td>\n      <td>...</td>\n      <td>...</td>\n      <td>...</td>\n      <td>...</td>\n      <td>...</td>\n      <td>...</td>\n      <td>...</td>\n      <td>...</td>\n      <td>...</td>\n      <td>...</td>\n      <td>...</td>\n      <td>...</td>\n      <td>...</td>\n      <td>...</td>\n      <td>...</td>\n      <td>...</td>\n      <td>...</td>\n      <td>...</td>\n    </tr>\n    <tr>\n      <th>363</th>\n      <td>0.452641</td>\n      <td>-0.084480</td>\n      <td>0.269014</td>\n      <td>-0.003531</td>\n      <td>-0.142523</td>\n      <td>0.265962</td>\n      <td>1.005933</td>\n      <td>1.024448</td>\n      <td>-0.657938</td>\n      <td>-0.151215</td>\n      <td>...</td>\n      <td>-0.277810</td>\n      <td>-0.363517</td>\n      <td>0.077821</td>\n      <td>1.471976</td>\n      <td>1.464302</td>\n      <td>-0.654335</td>\n      <td>0.502952</td>\n      <td>0.736093</td>\n      <td>0.081132</td>\n      <td>-1.045464</td>\n    </tr>\n    <tr>\n      <th>364</th>\n      <td>0.081622</td>\n      <td>-0.186314</td>\n      <td>0.066346</td>\n      <td>1.165247</td>\n      <td>0.885526</td>\n      <td>0.080019</td>\n      <td>0.818884</td>\n      <td>0.826531</td>\n      <td>-0.657938</td>\n      <td>-2.006118</td>\n      <td>...</td>\n      <td>1.728623</td>\n      <td>1.756436</td>\n      <td>-0.077595</td>\n      <td>1.306389</td>\n      <td>1.287821</td>\n      <td>-0.654335</td>\n      <td>-1.392129</td>\n      <td>0.519642</td>\n      <td>-0.528130</td>\n      <td>0.516457</td>\n    </tr>\n    <tr>\n      <th>365</th>\n      <td>0.607718</td>\n      <td>0.260480</td>\n      <td>0.222419</td>\n      <td>0.027059</td>\n      <td>-0.120503</td>\n      <td>0.219847</td>\n      <td>0.696986</td>\n      <td>0.722647</td>\n      <td>0.956203</td>\n      <td>1.703688</td>\n      <td>...</td>\n      <td>0.401700</td>\n      <td>0.232388</td>\n      <td>0.052532</td>\n      <td>1.333777</td>\n      <td>1.335957</td>\n      <td>1.029548</td>\n      <td>1.134645</td>\n      <td>-0.377907</td>\n      <td>0.250146</td>\n      <td>0.070193</td>\n    </tr>\n    <tr>\n      <th>366</th>\n      <td>0.528658</td>\n      <td>-0.047419</td>\n      <td>0.204435</td>\n      <td>0.255420</td>\n      <td>0.052176</td>\n      <td>0.204549</td>\n      <td>1.735407</td>\n      <td>1.734624</td>\n      <td>-0.657938</td>\n      <td>-1.387817</td>\n      <td>...</td>\n      <td>0.484377</td>\n      <td>0.313423</td>\n      <td>-0.023215</td>\n      <td>1.771525</td>\n      <td>1.745009</td>\n      <td>-0.654335</td>\n      <td>-1.392129</td>\n      <td>0.847700</td>\n      <td>-0.872902</td>\n      <td>0.516457</td>\n    </tr>\n    <tr>\n      <th>367</th>\n      <td>-2.823963</td>\n      <td>0.381963</td>\n      <td>0.619637</td>\n      <td>1.583720</td>\n      <td>1.346852</td>\n      <td>0.636514</td>\n      <td>2.020268</td>\n      <td>2.024374</td>\n      <td>0.956203</td>\n      <td>2.321989</td>\n      <td>...</td>\n      <td>1.139700</td>\n      <td>1.021193</td>\n      <td>0.447828</td>\n      <td>1.827412</td>\n      <td>1.809789</td>\n      <td>1.029548</td>\n      <td>0.502952</td>\n      <td>-0.173073</td>\n      <td>-0.777308</td>\n      <td>0.516457</td>\n    </tr>\n  </tbody>\n</table>\n<p>368 rows × 39 columns</p>\n</div>"
     },
     "metadata": {},
     "execution_count": 74
    }
   ],
   "source": [
    "numeric_features = data_eye_features.dtypes[data_eye.dtypes != 'object'].index\n",
    "data_eye_features[numeric_features] = data_eye_features[numeric_features].apply(lambda x: (x-x.mean()) / (x.std()))\n",
    "data_eye_features[numeric_features] = data_eye_features[numeric_features].fillna(0)\n",
    "# data_eye_features"
   ]
  },
  {
   "cell_type": "code",
   "execution_count": 75,
   "metadata": {},
   "outputs": [],
   "source": [
    "n_train = 22 * 16\n",
    "n_test = 16\n",
    "train_features = torch.tensor(data_eye_features[:n_train].values, dtype=torch.float32)\n",
    "test_features = torch.tensor(data_eye_features[n_train:].values, dtype=torch.float32)\n",
    "train_labels = torch.tensor(data_eye.iloc[:n_train, -1].values, dtype=torch.long)\n",
    "test_labels = torch.tensor(data_eye.iloc[n_train:, -1].values, dtype=torch.long)"
   ]
  },
  {
   "cell_type": "code",
   "execution_count": 76,
   "metadata": {},
   "outputs": [],
   "source": [
    "input_neurons = 39\n",
    "hidden_neurons = 100\n",
    "output_neurons = 2\n",
    "learning_rate = 0.003\n",
    "num_epochs = 200"
   ]
  },
  {
   "cell_type": "code",
   "execution_count": 77,
   "metadata": {},
   "outputs": [],
   "source": [
    "# loss = nn.CrossEntropyLoss()\n",
    "# in_features = train_features.shape[1]\n",
    "# def get_net():\n",
    "#     net = nn.Sequential(nn.Linear(in_features, 1))\n",
    "#     return net\n"
   ]
  },
  {
   "cell_type": "code",
   "execution_count": 78,
   "metadata": {},
   "outputs": [],
   "source": [
    "net = nn.Sequential(nn.Linear(input_neurons, hidden_neurons), nn.Sigmoid(), nn.Linear(hidden_neurons, output_neurons))\n",
    "loss_func = nn.CrossEntropyLoss()\n",
    "optimiser = torch.optim.Adam(net.parameters(), lr=learning_rate)"
   ]
  },
  {
   "cell_type": "code",
   "execution_count": 79,
   "metadata": {},
   "outputs": [
    {
     "output_type": "stream",
     "name": "stdout",
     "text": [
      "Epoch [1/200] Loss: 0.7589 Accuracy: 47.44 %\nEpoch [51/200] Loss: 0.6504 Accuracy: 60.80 %\nEpoch [101/200] Loss: 0.6080 Accuracy: 67.61 %\nEpoch [151/200] Loss: 0.5136 Accuracy: 77.27 %\n"
     ]
    }
   ],
   "source": [
    "all_losses = []\n",
    "for epoch in range(num_epochs):\n",
    "    train_pred = net(train_features)\n",
    "    loss = loss_func(train_pred, train_labels)\n",
    "    all_losses.append(loss.item())\n",
    "    if epoch % 50 == 0:\n",
    "        _, predicted = torch.max(F.softmax(train_pred, 1), 1)\n",
    "\n",
    "        total = predicted.size()\n",
    "        correct = predicted.data.numpy() == train_labels.data.numpy()\n",
    "        print('Epoch [%d/%d] Loss: %.4f Accuracy: %.2f %%' %(epoch+1, num_epochs, loss.item(), 100*sum(correct)/total))\n",
    "    net.zero_grad()\n",
    "    loss.backward()\n",
    "    optimiser.step()"
   ]
  },
  {
   "cell_type": "code",
   "execution_count": 80,
   "metadata": {},
   "outputs": [
    {
     "output_type": "display_data",
     "data": {
      "text/plain": "<Figure size 432x288 with 1 Axes>",
      "image/svg+xml": "<?xml version=\"1.0\" encoding=\"utf-8\" standalone=\"no\"?>\n<!DOCTYPE svg PUBLIC \"-//W3C//DTD SVG 1.1//EN\"\n  \"http://www.w3.org/Graphics/SVG/1.1/DTD/svg11.dtd\">\n<svg height=\"248.518125pt\" version=\"1.1\" viewBox=\"0 0 378.465625 248.518125\" width=\"378.465625pt\" xmlns=\"http://www.w3.org/2000/svg\" xmlns:xlink=\"http://www.w3.org/1999/xlink\">\n <metadata>\n  <rdf:RDF xmlns:cc=\"http://creativecommons.org/ns#\" xmlns:dc=\"http://purl.org/dc/elements/1.1/\" xmlns:rdf=\"http://www.w3.org/1999/02/22-rdf-syntax-ns#\">\n   <cc:Work>\n    <dc:type rdf:resource=\"http://purl.org/dc/dcmitype/StillImage\"/>\n    <dc:date>2021-04-25T14:32:14.872502</dc:date>\n    <dc:format>image/svg+xml</dc:format>\n    <dc:creator>\n     <cc:Agent>\n      <dc:title>Matplotlib v3.4.1, https://matplotlib.org/</dc:title>\n     </cc:Agent>\n    </dc:creator>\n   </cc:Work>\n  </rdf:RDF>\n </metadata>\n <defs>\n  <style type=\"text/css\">*{stroke-linecap:butt;stroke-linejoin:round;}</style>\n </defs>\n <g id=\"figure_1\">\n  <g id=\"patch_1\">\n   <path d=\"M 0 248.518125 \nL 378.465625 248.518125 \nL 378.465625 0 \nL 0 0 \nz\n\" style=\"fill:none;\"/>\n  </g>\n  <g id=\"axes_1\">\n   <g id=\"patch_2\">\n    <path d=\"M 36.465625 224.64 \nL 371.265625 224.64 \nL 371.265625 7.2 \nL 36.465625 7.2 \nz\n\" style=\"fill:#ffffff;\"/>\n   </g>\n   <g id=\"matplotlib.axis_1\">\n    <g id=\"xtick_1\">\n     <g id=\"line2d_1\">\n      <defs>\n       <path d=\"M 0 0 \nL 0 3.5 \n\" id=\"m1b98bef11b\" style=\"stroke:#000000;stroke-width:0.8;\"/>\n      </defs>\n      <g>\n       <use style=\"stroke:#000000;stroke-width:0.8;\" x=\"51.683807\" xlink:href=\"#m1b98bef11b\" y=\"224.64\"/>\n      </g>\n     </g>\n     <g id=\"text_1\">\n      <!-- 0 -->\n      <g transform=\"translate(48.502557 239.238438)scale(0.1 -0.1)\">\n       <defs>\n        <path d=\"M 2034 4250 \nQ 1547 4250 1301 3770 \nQ 1056 3291 1056 2328 \nQ 1056 1369 1301 889 \nQ 1547 409 2034 409 \nQ 2525 409 2770 889 \nQ 3016 1369 3016 2328 \nQ 3016 3291 2770 3770 \nQ 2525 4250 2034 4250 \nz\nM 2034 4750 \nQ 2819 4750 3233 4129 \nQ 3647 3509 3647 2328 \nQ 3647 1150 3233 529 \nQ 2819 -91 2034 -91 \nQ 1250 -91 836 529 \nQ 422 1150 422 2328 \nQ 422 3509 836 4129 \nQ 1250 4750 2034 4750 \nz\n\" id=\"DejaVuSans-30\" transform=\"scale(0.015625)\"/>\n       </defs>\n       <use xlink:href=\"#DejaVuSans-30\"/>\n      </g>\n     </g>\n    </g>\n    <g id=\"xtick_2\">\n     <g id=\"line2d_2\">\n      <g>\n       <use style=\"stroke:#000000;stroke-width:0.8;\" x=\"89.920445\" xlink:href=\"#m1b98bef11b\" y=\"224.64\"/>\n      </g>\n     </g>\n     <g id=\"text_2\">\n      <!-- 25 -->\n      <g transform=\"translate(83.557945 239.238438)scale(0.1 -0.1)\">\n       <defs>\n        <path d=\"M 1228 531 \nL 3431 531 \nL 3431 0 \nL 469 0 \nL 469 531 \nQ 828 903 1448 1529 \nQ 2069 2156 2228 2338 \nQ 2531 2678 2651 2914 \nQ 2772 3150 2772 3378 \nQ 2772 3750 2511 3984 \nQ 2250 4219 1831 4219 \nQ 1534 4219 1204 4116 \nQ 875 4013 500 3803 \nL 500 4441 \nQ 881 4594 1212 4672 \nQ 1544 4750 1819 4750 \nQ 2544 4750 2975 4387 \nQ 3406 4025 3406 3419 \nQ 3406 3131 3298 2873 \nQ 3191 2616 2906 2266 \nQ 2828 2175 2409 1742 \nQ 1991 1309 1228 531 \nz\n\" id=\"DejaVuSans-32\" transform=\"scale(0.015625)\"/>\n        <path d=\"M 691 4666 \nL 3169 4666 \nL 3169 4134 \nL 1269 4134 \nL 1269 2991 \nQ 1406 3038 1543 3061 \nQ 1681 3084 1819 3084 \nQ 2600 3084 3056 2656 \nQ 3513 2228 3513 1497 \nQ 3513 744 3044 326 \nQ 2575 -91 1722 -91 \nQ 1428 -91 1123 -41 \nQ 819 9 494 109 \nL 494 744 \nQ 775 591 1075 516 \nQ 1375 441 1709 441 \nQ 2250 441 2565 725 \nQ 2881 1009 2881 1497 \nQ 2881 1984 2565 2268 \nQ 2250 2553 1709 2553 \nQ 1456 2553 1204 2497 \nQ 953 2441 691 2322 \nL 691 4666 \nz\n\" id=\"DejaVuSans-35\" transform=\"scale(0.015625)\"/>\n       </defs>\n       <use xlink:href=\"#DejaVuSans-32\"/>\n       <use x=\"63.623047\" xlink:href=\"#DejaVuSans-35\"/>\n      </g>\n     </g>\n    </g>\n    <g id=\"xtick_3\">\n     <g id=\"line2d_3\">\n      <g>\n       <use style=\"stroke:#000000;stroke-width:0.8;\" x=\"128.157082\" xlink:href=\"#m1b98bef11b\" y=\"224.64\"/>\n      </g>\n     </g>\n     <g id=\"text_3\">\n      <!-- 50 -->\n      <g transform=\"translate(121.794582 239.238438)scale(0.1 -0.1)\">\n       <use xlink:href=\"#DejaVuSans-35\"/>\n       <use x=\"63.623047\" xlink:href=\"#DejaVuSans-30\"/>\n      </g>\n     </g>\n    </g>\n    <g id=\"xtick_4\">\n     <g id=\"line2d_4\">\n      <g>\n       <use style=\"stroke:#000000;stroke-width:0.8;\" x=\"166.39372\" xlink:href=\"#m1b98bef11b\" y=\"224.64\"/>\n      </g>\n     </g>\n     <g id=\"text_4\">\n      <!-- 75 -->\n      <g transform=\"translate(160.03122 239.238438)scale(0.1 -0.1)\">\n       <defs>\n        <path d=\"M 525 4666 \nL 3525 4666 \nL 3525 4397 \nL 1831 0 \nL 1172 0 \nL 2766 4134 \nL 525 4134 \nL 525 4666 \nz\n\" id=\"DejaVuSans-37\" transform=\"scale(0.015625)\"/>\n       </defs>\n       <use xlink:href=\"#DejaVuSans-37\"/>\n       <use x=\"63.623047\" xlink:href=\"#DejaVuSans-35\"/>\n      </g>\n     </g>\n    </g>\n    <g id=\"xtick_5\">\n     <g id=\"line2d_5\">\n      <g>\n       <use style=\"stroke:#000000;stroke-width:0.8;\" x=\"204.630358\" xlink:href=\"#m1b98bef11b\" y=\"224.64\"/>\n      </g>\n     </g>\n     <g id=\"text_5\">\n      <!-- 100 -->\n      <g transform=\"translate(195.086608 239.238438)scale(0.1 -0.1)\">\n       <defs>\n        <path d=\"M 794 531 \nL 1825 531 \nL 1825 4091 \nL 703 3866 \nL 703 4441 \nL 1819 4666 \nL 2450 4666 \nL 2450 531 \nL 3481 531 \nL 3481 0 \nL 794 0 \nL 794 531 \nz\n\" id=\"DejaVuSans-31\" transform=\"scale(0.015625)\"/>\n       </defs>\n       <use xlink:href=\"#DejaVuSans-31\"/>\n       <use x=\"63.623047\" xlink:href=\"#DejaVuSans-30\"/>\n       <use x=\"127.246094\" xlink:href=\"#DejaVuSans-30\"/>\n      </g>\n     </g>\n    </g>\n    <g id=\"xtick_6\">\n     <g id=\"line2d_6\">\n      <g>\n       <use style=\"stroke:#000000;stroke-width:0.8;\" x=\"242.866995\" xlink:href=\"#m1b98bef11b\" y=\"224.64\"/>\n      </g>\n     </g>\n     <g id=\"text_6\">\n      <!-- 125 -->\n      <g transform=\"translate(233.323245 239.238438)scale(0.1 -0.1)\">\n       <use xlink:href=\"#DejaVuSans-31\"/>\n       <use x=\"63.623047\" xlink:href=\"#DejaVuSans-32\"/>\n       <use x=\"127.246094\" xlink:href=\"#DejaVuSans-35\"/>\n      </g>\n     </g>\n    </g>\n    <g id=\"xtick_7\">\n     <g id=\"line2d_7\">\n      <g>\n       <use style=\"stroke:#000000;stroke-width:0.8;\" x=\"281.103633\" xlink:href=\"#m1b98bef11b\" y=\"224.64\"/>\n      </g>\n     </g>\n     <g id=\"text_7\">\n      <!-- 150 -->\n      <g transform=\"translate(271.559883 239.238438)scale(0.1 -0.1)\">\n       <use xlink:href=\"#DejaVuSans-31\"/>\n       <use x=\"63.623047\" xlink:href=\"#DejaVuSans-35\"/>\n       <use x=\"127.246094\" xlink:href=\"#DejaVuSans-30\"/>\n      </g>\n     </g>\n    </g>\n    <g id=\"xtick_8\">\n     <g id=\"line2d_8\">\n      <g>\n       <use style=\"stroke:#000000;stroke-width:0.8;\" x=\"319.340271\" xlink:href=\"#m1b98bef11b\" y=\"224.64\"/>\n      </g>\n     </g>\n     <g id=\"text_8\">\n      <!-- 175 -->\n      <g transform=\"translate(309.796521 239.238438)scale(0.1 -0.1)\">\n       <use xlink:href=\"#DejaVuSans-31\"/>\n       <use x=\"63.623047\" xlink:href=\"#DejaVuSans-37\"/>\n       <use x=\"127.246094\" xlink:href=\"#DejaVuSans-35\"/>\n      </g>\n     </g>\n    </g>\n    <g id=\"xtick_9\">\n     <g id=\"line2d_9\">\n      <g>\n       <use style=\"stroke:#000000;stroke-width:0.8;\" x=\"357.576909\" xlink:href=\"#m1b98bef11b\" y=\"224.64\"/>\n      </g>\n     </g>\n     <g id=\"text_9\">\n      <!-- 200 -->\n      <g transform=\"translate(348.033159 239.238438)scale(0.1 -0.1)\">\n       <use xlink:href=\"#DejaVuSans-32\"/>\n       <use x=\"63.623047\" xlink:href=\"#DejaVuSans-30\"/>\n       <use x=\"127.246094\" xlink:href=\"#DejaVuSans-30\"/>\n      </g>\n     </g>\n    </g>\n   </g>\n   <g id=\"matplotlib.axis_2\">\n    <g id=\"ytick_1\">\n     <g id=\"line2d_10\">\n      <defs>\n       <path d=\"M 0 0 \nL -3.5 0 \n\" id=\"m724f95c1d5\" style=\"stroke:#000000;stroke-width:0.8;\"/>\n      </defs>\n      <g>\n       <use style=\"stroke:#000000;stroke-width:0.8;\" x=\"36.465625\" xlink:href=\"#m724f95c1d5\" y=\"207.645127\"/>\n      </g>\n     </g>\n     <g id=\"text_10\">\n      <!-- 0.40 -->\n      <g transform=\"translate(7.2 211.444346)scale(0.1 -0.1)\">\n       <defs>\n        <path d=\"M 684 794 \nL 1344 794 \nL 1344 0 \nL 684 0 \nL 684 794 \nz\n\" id=\"DejaVuSans-2e\" transform=\"scale(0.015625)\"/>\n        <path d=\"M 2419 4116 \nL 825 1625 \nL 2419 1625 \nL 2419 4116 \nz\nM 2253 4666 \nL 3047 4666 \nL 3047 1625 \nL 3713 1625 \nL 3713 1100 \nL 3047 1100 \nL 3047 0 \nL 2419 0 \nL 2419 1100 \nL 313 1100 \nL 313 1709 \nL 2253 4666 \nz\n\" id=\"DejaVuSans-34\" transform=\"scale(0.015625)\"/>\n       </defs>\n       <use xlink:href=\"#DejaVuSans-30\"/>\n       <use x=\"63.623047\" xlink:href=\"#DejaVuSans-2e\"/>\n       <use x=\"95.410156\" xlink:href=\"#DejaVuSans-34\"/>\n       <use x=\"159.033203\" xlink:href=\"#DejaVuSans-30\"/>\n      </g>\n     </g>\n    </g>\n    <g id=\"ytick_2\">\n     <g id=\"line2d_11\">\n      <g>\n       <use style=\"stroke:#000000;stroke-width:0.8;\" x=\"36.465625\" xlink:href=\"#m724f95c1d5\" y=\"181.096988\"/>\n      </g>\n     </g>\n     <g id=\"text_11\">\n      <!-- 0.45 -->\n      <g transform=\"translate(7.2 184.896207)scale(0.1 -0.1)\">\n       <use xlink:href=\"#DejaVuSans-30\"/>\n       <use x=\"63.623047\" xlink:href=\"#DejaVuSans-2e\"/>\n       <use x=\"95.410156\" xlink:href=\"#DejaVuSans-34\"/>\n       <use x=\"159.033203\" xlink:href=\"#DejaVuSans-35\"/>\n      </g>\n     </g>\n    </g>\n    <g id=\"ytick_3\">\n     <g id=\"line2d_12\">\n      <g>\n       <use style=\"stroke:#000000;stroke-width:0.8;\" x=\"36.465625\" xlink:href=\"#m724f95c1d5\" y=\"154.548849\"/>\n      </g>\n     </g>\n     <g id=\"text_12\">\n      <!-- 0.50 -->\n      <g transform=\"translate(7.2 158.348068)scale(0.1 -0.1)\">\n       <use xlink:href=\"#DejaVuSans-30\"/>\n       <use x=\"63.623047\" xlink:href=\"#DejaVuSans-2e\"/>\n       <use x=\"95.410156\" xlink:href=\"#DejaVuSans-35\"/>\n       <use x=\"159.033203\" xlink:href=\"#DejaVuSans-30\"/>\n      </g>\n     </g>\n    </g>\n    <g id=\"ytick_4\">\n     <g id=\"line2d_13\">\n      <g>\n       <use style=\"stroke:#000000;stroke-width:0.8;\" x=\"36.465625\" xlink:href=\"#m724f95c1d5\" y=\"128.00071\"/>\n      </g>\n     </g>\n     <g id=\"text_13\">\n      <!-- 0.55 -->\n      <g transform=\"translate(7.2 131.799929)scale(0.1 -0.1)\">\n       <use xlink:href=\"#DejaVuSans-30\"/>\n       <use x=\"63.623047\" xlink:href=\"#DejaVuSans-2e\"/>\n       <use x=\"95.410156\" xlink:href=\"#DejaVuSans-35\"/>\n       <use x=\"159.033203\" xlink:href=\"#DejaVuSans-35\"/>\n      </g>\n     </g>\n    </g>\n    <g id=\"ytick_5\">\n     <g id=\"line2d_14\">\n      <g>\n       <use style=\"stroke:#000000;stroke-width:0.8;\" x=\"36.465625\" xlink:href=\"#m724f95c1d5\" y=\"101.452571\"/>\n      </g>\n     </g>\n     <g id=\"text_14\">\n      <!-- 0.60 -->\n      <g transform=\"translate(7.2 105.25179)scale(0.1 -0.1)\">\n       <defs>\n        <path d=\"M 2113 2584 \nQ 1688 2584 1439 2293 \nQ 1191 2003 1191 1497 \nQ 1191 994 1439 701 \nQ 1688 409 2113 409 \nQ 2538 409 2786 701 \nQ 3034 994 3034 1497 \nQ 3034 2003 2786 2293 \nQ 2538 2584 2113 2584 \nz\nM 3366 4563 \nL 3366 3988 \nQ 3128 4100 2886 4159 \nQ 2644 4219 2406 4219 \nQ 1781 4219 1451 3797 \nQ 1122 3375 1075 2522 \nQ 1259 2794 1537 2939 \nQ 1816 3084 2150 3084 \nQ 2853 3084 3261 2657 \nQ 3669 2231 3669 1497 \nQ 3669 778 3244 343 \nQ 2819 -91 2113 -91 \nQ 1303 -91 875 529 \nQ 447 1150 447 2328 \nQ 447 3434 972 4092 \nQ 1497 4750 2381 4750 \nQ 2619 4750 2861 4703 \nQ 3103 4656 3366 4563 \nz\n\" id=\"DejaVuSans-36\" transform=\"scale(0.015625)\"/>\n       </defs>\n       <use xlink:href=\"#DejaVuSans-30\"/>\n       <use x=\"63.623047\" xlink:href=\"#DejaVuSans-2e\"/>\n       <use x=\"95.410156\" xlink:href=\"#DejaVuSans-36\"/>\n       <use x=\"159.033203\" xlink:href=\"#DejaVuSans-30\"/>\n      </g>\n     </g>\n    </g>\n    <g id=\"ytick_6\">\n     <g id=\"line2d_15\">\n      <g>\n       <use style=\"stroke:#000000;stroke-width:0.8;\" x=\"36.465625\" xlink:href=\"#m724f95c1d5\" y=\"74.904432\"/>\n      </g>\n     </g>\n     <g id=\"text_15\">\n      <!-- 0.65 -->\n      <g transform=\"translate(7.2 78.703651)scale(0.1 -0.1)\">\n       <use xlink:href=\"#DejaVuSans-30\"/>\n       <use x=\"63.623047\" xlink:href=\"#DejaVuSans-2e\"/>\n       <use x=\"95.410156\" xlink:href=\"#DejaVuSans-36\"/>\n       <use x=\"159.033203\" xlink:href=\"#DejaVuSans-35\"/>\n      </g>\n     </g>\n    </g>\n    <g id=\"ytick_7\">\n     <g id=\"line2d_16\">\n      <g>\n       <use style=\"stroke:#000000;stroke-width:0.8;\" x=\"36.465625\" xlink:href=\"#m724f95c1d5\" y=\"48.356293\"/>\n      </g>\n     </g>\n     <g id=\"text_16\">\n      <!-- 0.70 -->\n      <g transform=\"translate(7.2 52.155511)scale(0.1 -0.1)\">\n       <use xlink:href=\"#DejaVuSans-30\"/>\n       <use x=\"63.623047\" xlink:href=\"#DejaVuSans-2e\"/>\n       <use x=\"95.410156\" xlink:href=\"#DejaVuSans-37\"/>\n       <use x=\"159.033203\" xlink:href=\"#DejaVuSans-30\"/>\n      </g>\n     </g>\n    </g>\n    <g id=\"ytick_8\">\n     <g id=\"line2d_17\">\n      <g>\n       <use style=\"stroke:#000000;stroke-width:0.8;\" x=\"36.465625\" xlink:href=\"#m724f95c1d5\" y=\"21.808154\"/>\n      </g>\n     </g>\n     <g id=\"text_17\">\n      <!-- 0.75 -->\n      <g transform=\"translate(7.2 25.607372)scale(0.1 -0.1)\">\n       <use xlink:href=\"#DejaVuSans-30\"/>\n       <use x=\"63.623047\" xlink:href=\"#DejaVuSans-2e\"/>\n       <use x=\"95.410156\" xlink:href=\"#DejaVuSans-37\"/>\n       <use x=\"159.033203\" xlink:href=\"#DejaVuSans-35\"/>\n      </g>\n     </g>\n    </g>\n   </g>\n   <g id=\"line2d_18\">\n    <path clip-path=\"url(#p88cc4f72d6)\" d=\"M 51.683807 17.083636 \nL 53.213272 42.705259 \nL 54.742738 54.606084 \nL 56.272203 55.281513 \nL 57.801669 51.201599 \nL 59.331134 48.643218 \nL 60.8606 49.500147 \nL 62.390065 52.679743 \nL 63.919531 56.385516 \nL 65.448996 59.166856 \nL 66.978462 60.321654 \nL 68.507927 60.014923 \nL 70.037393 59.075773 \nL 71.566858 58.476395 \nL 73.096324 58.802431 \nL 74.625789 60.050875 \nL 77.68472 63.40004 \nL 79.214186 64.459705 \nL 80.743651 64.814066 \nL 82.273117 64.653991 \nL 83.802583 64.370205 \nL 85.332048 64.336785 \nL 86.861514 64.732383 \nL 88.390979 65.493894 \nL 91.44991 67.170027 \nL 92.979376 67.668037 \nL 94.508841 67.887104 \nL 97.567772 68.078447 \nL 99.097238 68.3566 \nL 102.156169 69.351608 \nL 103.685634 69.859683 \nL 105.2151 70.245976 \nL 108.274031 70.681419 \nL 111.332962 71.160219 \nL 118.980289 72.910029 \nL 123.568686 73.683597 \nL 131.216013 75.296276 \nL 135.80441 76.191531 \nL 157.216927 81.021815 \nL 166.39372 83.449458 \nL 174.041048 85.701203 \nL 181.688375 88.181571 \nL 189.335703 90.914774 \nL 196.98303 93.920212 \nL 204.630358 97.212791 \nL 210.74822 100.061888 \nL 216.866082 103.10869 \nL 222.983944 106.36095 \nL 229.101806 109.825756 \nL 235.219668 113.508648 \nL 241.33753 117.407662 \nL 248.984858 122.570661 \nL 256.632185 128.038903 \nL 264.279513 133.792418 \nL 271.92684 139.808104 \nL 281.103633 147.339849 \nL 290.280426 155.170349 \nL 300.986685 164.598322 \nL 317.810805 179.769446 \nL 345.341185 204.929042 \nL 356.047443 214.756364 \nL 356.047443 214.756364 \n\" style=\"fill:none;stroke:#1f77b4;stroke-linecap:square;stroke-width:1.5;\"/>\n   </g>\n   <g id=\"patch_3\">\n    <path d=\"M 36.465625 224.64 \nL 36.465625 7.2 \n\" style=\"fill:none;stroke:#000000;stroke-linecap:square;stroke-linejoin:miter;stroke-width:0.8;\"/>\n   </g>\n   <g id=\"patch_4\">\n    <path d=\"M 371.265625 224.64 \nL 371.265625 7.2 \n\" style=\"fill:none;stroke:#000000;stroke-linecap:square;stroke-linejoin:miter;stroke-width:0.8;\"/>\n   </g>\n   <g id=\"patch_5\">\n    <path d=\"M 36.465625 224.64 \nL 371.265625 224.64 \n\" style=\"fill:none;stroke:#000000;stroke-linecap:square;stroke-linejoin:miter;stroke-width:0.8;\"/>\n   </g>\n   <g id=\"patch_6\">\n    <path d=\"M 36.465625 7.2 \nL 371.265625 7.2 \n\" style=\"fill:none;stroke:#000000;stroke-linecap:square;stroke-linejoin:miter;stroke-width:0.8;\"/>\n   </g>\n  </g>\n </g>\n <defs>\n  <clipPath id=\"p88cc4f72d6\">\n   <rect height=\"217.44\" width=\"334.8\" x=\"36.465625\" y=\"7.2\"/>\n  </clipPath>\n </defs>\n</svg>\n",
      "image/png": "[encoded data removed]"
     },
     "metadata": {
      "needs_background": "light"
     }
    }
   ],
   "source": [
    "import matplotlib.pyplot as plt\n",
    "plt.figure()\n",
    "plt.plot(all_losses)\n",
    "plt.show()"
   ]
  },
  {
   "cell_type": "code",
   "execution_count": 81,
   "metadata": {},
   "outputs": [],
   "source": [
    "# confusion = torch.zeros(output_neurons, output_neurons)\n",
    "# for i in range(train_features.size(0)):\n",
    "#     actual_class = train_features.data[i]"
   ]
  },
  {
   "cell_type": "code",
   "execution_count": 82,
   "metadata": {},
   "outputs": [
    {
     "output_type": "stream",
     "name": "stdout",
     "text": [
      "Test Accuracy: 62.50 %\n"
     ]
    }
   ],
   "source": [
    "Y_pred_test = net(test_features)\n",
    "_, predicted_test = torch.max(F.softmax(Y_pred_test, 1), 1)\n",
    "total_test = predicted_test.size(0)\n",
    "correct_test = sum(predicted_test.data.numpy() == test_labels.data.numpy())\n",
    "print('Test Accuracy: %.2f %%' %(100*correct_test/total_test))"
   ]
  },
  {
   "cell_type": "code",
   "execution_count": 83,
   "metadata": {},
   "outputs": [
    {
     "output_type": "execute_result",
     "data": {
      "text/plain": [
       "tensor([[ 0.3599,  0.0208,  0.1775,  ..., -0.1621,  0.4996, -0.0285],\n",
       "        [ 0.3664,  0.7424, -0.3986,  ..., -0.3501, -0.4370,  0.4529],\n",
       "        [ 0.1316, -0.1442, -0.1360,  ..., -0.1918, -0.1468, -0.1850],\n",
       "        ...,\n",
       "        [ 0.0318, -0.1256, -0.0746,  ..., -0.1109, -0.0008, -0.2469],\n",
       "        [-0.1661, -0.5683,  0.3928,  ..., -0.0580, -0.7502,  0.7610],\n",
       "        [ 0.2300, -0.3484,  0.0225,  ...,  0.0273,  0.1726,  0.3285]])"
      ]
     },
     "metadata": {},
     "execution_count": 83
    }
   ],
   "source": [
    "net[0].weight.data"
   ]
  },
  {
   "cell_type": "code",
   "execution_count": 84,
   "metadata": {},
   "outputs": [
    {
     "output_type": "execute_result",
     "data": {
      "text/plain": [
       "torch.Size([2, 100])"
      ]
     },
     "metadata": {},
     "execution_count": 84
    }
   ],
   "source": [
    "net[2].weight.data.shape"
   ]
  },
  {
   "cell_type": "code",
   "execution_count": 85,
   "metadata": {},
   "outputs": [
    {
     "output_type": "stream",
     "name": "stdout",
     "text": [
      "('0.weight', torch.Size([100, 39])) ('0.bias', torch.Size([100])) ('2.weight', torch.Size([2, 100])) ('2.bias', torch.Size([2]))\n"
     ]
    }
   ],
   "source": [
    "print(*[(name, param.shape) for name, param in net.named_parameters()])"
   ]
  },
  {
   "cell_type": "code",
   "execution_count": null,
   "metadata": {},
   "outputs": [],
   "source": []
  }
 ]
}