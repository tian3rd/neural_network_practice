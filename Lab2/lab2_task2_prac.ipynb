{
 "metadata": {
  "language_info": {
   "codemirror_mode": {
    "name": "ipython",
    "version": 3
   },
   "file_extension": ".py",
   "mimetype": "text/x-python",
   "name": "python",
   "nbconvert_exporter": "python",
   "pygments_lexer": "ipython3",
   "version": "3.9.2-final"
  },
  "orig_nbformat": 2,
  "kernelspec": {
   "name": "python3",
   "display_name": "Python 3.9.2 64-bit",
   "metadata": {
    "interpreter": {
     "hash": "aee8b7b246df8f9039afb4144a1f6fd8d2ca17a180786b69acc140d282b71a49"
    }
   }
  }
 },
 "nbformat": 4,
 "nbformat_minor": 2,
 "cells": [
  {
   "source": [
    "## Glass Data All In"
   ],
   "cell_type": "markdown",
   "metadata": {}
  },
  {
   "cell_type": "code",
   "execution_count": 1,
   "metadata": {},
   "outputs": [],
   "source": [
    "import numpy as np\n",
    "import torch\n",
    "import torch.nn.functional as F\n",
    "import matplotlib.pyplot as plt\n",
    "import pandas as pd\n",
    "import torch.nn as nn\n",
    "import torch.utils.data"
   ]
  },
  {
   "cell_type": "code",
   "execution_count": 2,
   "metadata": {},
   "outputs": [],
   "source": [
    "# hyper param: input neurons, hidden neurons, output neurons, epochs, batch size?, learning rate (assuming we're familiar with glass.data)\n",
    "num_inputs = 9\n",
    "num_hidden = 50\n",
    "num_classes = 7\n",
    "num_epochs = 500\n",
    "batch_size = 10\n",
    "learning_rate = 0.01"
   ]
  },
  {
   "cell_type": "code",
   "execution_count": 4,
   "metadata": {},
   "outputs": [],
   "source": [
    "# load data with no header and index col of 0\n",
    "data = pd.read_csv('glass.data', header=None, index_col=0)\n",
    "\n",
    "# normalize columns\n",
    "for col in data.columns[:-1]:\n",
    "    # use lambda to process each column\n",
    "    data[col] = data.loc[:, [col]].apply(lambda x: (x - x.mean()) / x.std())\n",
    "\n",
    "# same drills to shuffule ordered data and split into training and test\n",
    "# is no shuffling ok? when loading, set shuffle to True\n",
    "msk = np.random.rand(len(data)) < 0.8\n",
    "data_train = data[msk]\n",
    "data_test = data[~msk]"
   ]
  },
  {
   "cell_type": "code",
   "execution_count": 6,
   "metadata": {},
   "outputs": [],
   "source": [
    "# define a customized torch dataset with __getitem__()\n",
    "class DataFrameDataset(torch.utils.data.Dataset):\n",
    "    def __init__(self, df):\n",
    "        self.data_tensor = torch.Tensor(df.values)\n",
    "    \n",
    "    # to get items by index\n",
    "    def __getitem__(self, index):\n",
    "        input_item = self.data_tensor[index][:-1]\n",
    "        output_item = self.data_tensor[index][-1]\n",
    "        return input_item, output_item\n",
    "    \n",
    "    # sample numbers\n",
    "    def __len__(self):\n",
    "        return self.data_tensor.shape[0]\n",
    "\n",
    "# define train dataset in tensor and a data loader?\n",
    "dataset_train = DataFrameDataset(data_train)\n",
    "loader_train = torch.utils.data.DataLoader(dataset_train, batch_size=batch_size, shuffle=True)"
   ]
  },
  {
   "source": [
    "### Define a nn\n",
    "> Think about how we choose best hidden neuron numbers"
   ],
   "cell_type": "markdown",
   "metadata": {}
  },
  {
   "cell_type": "code",
   "execution_count": null,
   "metadata": {},
   "outputs": [],
   "source": [
    "# NN\n",
    "class Net(nn.Module):\n",
    "    def __init__(self, n_input, n_hidden, n_output):\n",
    "        super(Net, self).__init__()\n",
    "        self.hidden = nn.Linear(n_input, n_hidden)\n",
    "        self.output = nn.Linear(n_hidden, n_output)\n",
    "        "
   ]
  }
 ]
}